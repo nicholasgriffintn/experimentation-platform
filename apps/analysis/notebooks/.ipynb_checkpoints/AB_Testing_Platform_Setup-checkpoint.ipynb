{
 "cells": [
  {
   "cell_type": "markdown",
   "metadata": {},
   "source": [
    "# AB Testing Platform - Analysis Layer Setup\n",
    "\n",
    "This notebook sets up our Iceberg table for storing and analyzing experiment results data."
   ]
  },
  {
   "cell_type": "code",
   "execution_count": null,
   "metadata": {},
   "outputs": [],
   "source": [
    "from pyspark.sql import SparkSession\n",
    "from pyspark.sql.types import *\n",
    "\n",
    "# Initialize Spark Session\n",
    "spark = SparkSession.builder \\\n",
    "    .appName(\"AB Testing Platform Setup\") \\\n",
    "    .getOrCreate()"
   ]
  },
  {
   "cell_type": "markdown",
   "metadata": {},
   "source": [
    "## Create Experiment Results Table\n",
    "\n",
    "This table stores the raw experiment data for analysis."
   ]
  },
  {
   "cell_type": "code",
   "execution_count": null,
   "metadata": {},
   "outputs": [],
   "source": [
    "# Create the experiment results table\n",
    "spark.sql(\"\"\"\n",
    "CREATE TABLE IF NOT EXISTS experiments.results (\n",
    "    experiment_id STRING,\n",
    "    variant STRING,\n",
    "    user_id STRING,\n",
    "    timestamp TIMESTAMP,\n",
    "    value DOUBLE,\n",
    "    metadata MAP<STRING, STRING>\n",
    ")\n",
    "USING iceberg\n",
    "PARTITIONED BY (days(timestamp), experiment_id)\n",
    "\"\"\")"
   ]
  },
  {
   "cell_type": "markdown",
   "metadata": {},
   "source": [
    "## Create Analysis View\n",
    "\n",
    "This view helps calculate key metrics for our experiments."
   ]
  },
  {
   "cell_type": "code",
   "execution_count": null,
   "metadata": {},
   "outputs": [],
   "source": [
    "# Create a view for experiment analysis\n",
    "spark.sql(\"\"\"\n",
    "CREATE OR REPLACE VIEW experiments.results_summary AS\n",
    "SELECT \n",
    "    experiment_id,\n",
    "    variant,\n",
    "    COUNT(DISTINCT user_id) as users,\n",
    "    COUNT(*) as observations,\n",
    "    AVG(value) as mean,\n",
    "    STDDEV(value) as std_dev,\n",
    "    MIN(value) as min_value,\n",
    "    MAX(value) as max_value\n",
    "FROM experiments.results\n",
    "GROUP BY experiment_id, variant\n",
    "\"\"\")"
   ]
  }
 ],
 "metadata": {
  "kernelspec": {
   "display_name": "Python 3",
   "language": "python",
   "name": "python3"
  },
  "language_info": {
   "codemirror_mode": {
    "name": "ipython",
    "version": 3
   },
   "file_extension": ".py",
   "mimetype": "text/x-python",
   "name": "python",
   "nbconvert_exporter": "python",
   "pygments_lexer": "ipython3",
   "version": "3.10"
  }
 },
 "nbformat": 4,
 "nbformat_minor": 4
}
